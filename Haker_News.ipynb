{
 "cells": [
  {
   "cell_type": "markdown",
   "metadata": {},
   "source": [
    "Let's start by importing the libraries we need and reading the data set into a list of lists."
   ]
  },
  {
   "cell_type": "code",
   "execution_count": 1,
   "metadata": {
    "collapsed": false
   },
   "outputs": [
    {
     "name": "stdout",
     "output_type": "stream",
     "text": [
      "[['id', 'title', 'url', 'num_points', 'num_comments', 'author', 'created_at'], ['12224879', 'Interactive Dynamic Video', 'http://www.interactivedynamicvideo.com/', '386', '52', 'ne0phyte', '8/4/2016 11:52'], ['10975351', 'How to Use Open Source and Shut the Fuck Up at the Same Time', 'http://hueniverse.com/2016/01/26/how-to-use-open-source-and-shut-the-fuck-up-at-the-same-time/', '39', '10', 'josep2', '1/26/2016 19:30'], ['11964716', \"Florida DJs May Face Felony for April Fools' Water Joke\", 'http://www.thewire.com/entertainment/2013/04/florida-djs-april-fools-water-joke/63798/', '2', '1', 'vezycash', '6/23/2016 22:20'], ['11919867', 'Technology ventures: From Idea to Enterprise', 'https://www.amazon.com/Technology-Ventures-Enterprise-Thomas-Byers/dp/0073523429', '3', '1', 'hswarna', '6/17/2016 0:01']]\n"
     ]
    }
   ],
   "source": [
    "from csv import reader\n",
    "opened_file = open(\"hacker_news.csv\")\n",
    "read_file = reader(opened_file)\n",
    "hn_list = list(read_file)\n",
    "hn = hn_list[1:]\n",
    "headers = hn_list[0]\n",
    "# Displaying first 5 rowe of the hn\n",
    "print(hn_list[0:5])"
   ]
  },
  {
   "cell_type": "markdown",
   "metadata": {},
   "source": [
    "Extracting first row of above result and storing it in headers variable as they are the headers of the dataset and rest all in variable hn"
   ]
  },
  {
   "cell_type": "code",
   "execution_count": 2,
   "metadata": {
    "collapsed": false
   },
   "outputs": [
    {
     "name": "stdout",
     "output_type": "stream",
     "text": [
      "['id', 'title', 'url', 'num_points', 'num_comments', 'author', 'created_at']\n",
      "[['12224879', 'Interactive Dynamic Video', 'http://www.interactivedynamicvideo.com/', '386', '52', 'ne0phyte', '8/4/2016 11:52'], ['10975351', 'How to Use Open Source and Shut the Fuck Up at the Same Time', 'http://hueniverse.com/2016/01/26/how-to-use-open-source-and-shut-the-fuck-up-at-the-same-time/', '39', '10', 'josep2', '1/26/2016 19:30'], ['11964716', \"Florida DJs May Face Felony for April Fools' Water Joke\", 'http://www.thewire.com/entertainment/2013/04/florida-djs-april-fools-water-joke/63798/', '2', '1', 'vezycash', '6/23/2016 22:20'], ['11919867', 'Technology ventures: From Idea to Enterprise', 'https://www.amazon.com/Technology-Ventures-Enterprise-Thomas-Byers/dp/0073523429', '3', '1', 'hswarna', '6/17/2016 0:01'], ['10301696', 'Note by Note: The Making of Steinway L1037 (2007)', 'http://www.nytimes.com/2007/11/07/movies/07stein.html?_r=0', '8', '2', 'walterbell', '9/30/2015 4:12']]\n"
     ]
    }
   ],
   "source": [
    "print(headers)\n",
    "print(hn[0:5])"
   ]
  },
  {
   "cell_type": "markdown",
   "metadata": {},
   "source": [
    "Now that we've removed the headers from hn, we're ready to filter our data. Since we're only concerned with post titles beginning with Ask HN or Show HN, we'll create new lists of lists containing just the data for those titles"
   ]
  },
  {
   "cell_type": "code",
   "execution_count": 4,
   "metadata": {
    "collapsed": false
   },
   "outputs": [
    {
     "name": "stdout",
     "output_type": "stream",
     "text": [
      "[['12296411', 'Ask HN: How to improve my personal website?', '', '2', '6', 'ahmedbaracat', '8/16/2016 9:55'], ['10610020', 'Ask HN: Am I the only one outraged by Twitter shutting down share counts?', '', '28', '29', 'tkfx', '11/22/2015 13:43'], ['11610310', 'Ask HN: Aby recent changes to CSS that broke mobile?', '', '1', '1', 'polskibus', '5/2/2016 10:14'], ['12210105', 'Ask HN: Looking for Employee #3 How do I do it?', '', '1', '3', 'sph130', '8/2/2016 14:20'], ['10394168', 'Ask HN: Someone offered to buy my browser extension from me. What now?', '', '28', '17', 'roykolak', '10/15/2015 16:38']]\n",
      "[['10627194', 'Show HN: Wio Link  ESP8266 Based Web of Things Hardware Development Platform', 'https://iot.seeed.cc', '26', '22', 'kfihihc', '11/25/2015 14:03'], ['10646440', 'Show HN: Something pointless I made', 'http://dn.ht/picklecat/', '747', '102', 'dhotson', '11/29/2015 22:46'], ['11590768', 'Show HN: Shanhu.io, a programming playground powered by e8vm', 'https://shanhu.io', '1', '1', 'h8liu', '4/28/2016 18:05'], ['12178806', 'Show HN: Webscope  Easy way for web developers to communicate with Clients', 'http://webscopeapp.com', '3', '3', 'fastbrick', '7/28/2016 7:11'], ['10872799', 'Show HN: GeoScreenshot  Easily test Geo-IP based web pages', 'https://www.geoscreenshot.com/', '1', '9', 'kpsychwave', '1/9/2016 20:45']]\n",
      "1744\n",
      "1162\n",
      "18938\n"
     ]
    }
   ],
   "source": [
    "ask_posts = [ ]\n",
    "show_posts = [ ]\n",
    "other_posts = [ ]\n",
    "for row in hn:\n",
    "    title = row[1]\n",
    "    title = title.lower()\n",
    "    if title.startswith(\"ask hn\"):\n",
    "        ask_posts.append(row)\n",
    "    if title.startswith(\"show hn\"):\n",
    "        show_posts.append(row)\n",
    "    else:\n",
    "        other_posts.append(row)\n",
    "print(ask_posts[:5])\n",
    "print(show_posts[:5])\n",
    "print(len(ask_posts)) # number of ask HN posts  \n",
    "print(len(show_posts)) # number of show HN posts\n",
    "print(len(other_posts)) # length of other post"
   ]
  },
  {
   "cell_type": "markdown",
   "metadata": {},
   "source": [
    "## Calculating number of comments received on  'ask HN' posts\n",
    "Let's calculate average nuber of comments received on ask HN posts"
   ]
  },
  {
   "cell_type": "code",
   "execution_count": 6,
   "metadata": {
    "collapsed": false
   },
   "outputs": [
    {
     "name": "stdout",
     "output_type": "stream",
     "text": [
      "14.038417431192661\n"
     ]
    }
   ],
   "source": [
    "total_ask_comments = 0\n",
    "for row in ask_posts:\n",
    "    comments = int(row[4])\n",
    "    total_ask_comments += comments\n",
    "avg_ask_comments = total_ask_comments/len(ask_posts)\n",
    "print(avg_ask_comments)\n"
   ]
  },
  {
   "cell_type": "markdown",
   "metadata": {},
   "source": [
    "## Calculating number of comments received on 'show HN' posts\n",
    "Now we'll calculate average number of comments on show HN comments"
   ]
  },
  {
   "cell_type": "code",
   "execution_count": 7,
   "metadata": {
    "collapsed": false
   },
   "outputs": [
    {
     "name": "stdout",
     "output_type": "stream",
     "text": [
      "10.31669535283993\n"
     ]
    }
   ],
   "source": [
    "total_show_comments = 0\n",
    "for row in show_posts:\n",
    "    comments = int(row[4])\n",
    "    total_show_comments += comments\n",
    "avg_show_comments = total_show_comments/len(show_posts)\n",
    "print(avg_show_comments)"
   ]
  },
  {
   "cell_type": "markdown",
   "metadata": {},
   "source": [
    "It is seen that average no. of comments asking for a solution for a problem that they are facing is more than the no.of comments that want to show what they have made or accomplished. It can seen that people are ready to help others by giving them solution ."
   ]
  },
  {
   "cell_type": "markdown",
   "metadata": {},
   "source": [
    "In the last screen, you should've determined that, on average, ask posts receive more comments than show posts. Since ask posts are more likely to receive comments, we'll focus our remaining analysis just on these posts.\n",
    "\n",
    "Next, we'll determine if ask posts created at a certain time are more likely to attract comments. We'll use the following steps to perform this analysis:\n",
    "\n",
    "Calculate the amount of ask posts created in each hour of the day, along with the number of comments received.\n",
    "Calculate the average number of comments ask posts receive by hour created"
   ]
  },
  {
   "cell_type": "code",
   "execution_count": 9,
   "metadata": {
    "collapsed": false
   },
   "outputs": [],
   "source": [
    "import datetime as dt\n",
    "result_list = [ ]\n",
    "for row in ask_posts:\n",
    "    created = row[6]\n",
    "    comment = int(row[4])\n",
    "    result_list.append([created,comment])\n",
    "counts_by_hour = { }\n",
    "comments_by_hour = { }\n",
    "for row in result_list:\n",
    "    date = row[0]\n",
    "    com = row[1]\n",
    "    hour = dt.datetime.strptime(date,\"%m/%d/%Y %H:%M\").strftime(\"%H\")\n",
    "    if hour not in counts_by_hour:\n",
    "        counts_by_hour[hour] = 1\n",
    "        comments_by_hour[hour] = com\n",
    "    if hour in counts_by_hour:\n",
    "        counts_by_hour[hour] +=1\n",
    "        comments_by_hour[hour] += com"
   ]
  },
  {
   "cell_type": "markdown",
   "metadata": {},
   "source": [
    "Next, we'll use these two dictionaries to calculate the average number of comments for posts created during each hour of the day.\n"
   ]
  },
  {
   "cell_type": "code",
   "execution_count": 10,
   "metadata": {
    "collapsed": false,
    "scrolled": true
   },
   "outputs": [
    {
     "data": {
      "text/plain": [
       "[['06', 8.844444444444445],\n",
       " ['08', 10.142857142857142],\n",
       " ['18', 13.1],\n",
       " ['07', 7.685714285714286],\n",
       " ['20', 21.28395061728395],\n",
       " ['15', 38.27350427350427],\n",
       " ['16', 16.798165137614678],\n",
       " ['10', 13.233333333333333],\n",
       " ['11', 10.898305084745763],\n",
       " ['17', 11.356435643564357],\n",
       " ['03', 7.672727272727273],\n",
       " ['23', 7.884057971014493],\n",
       " ['14', 13.13888888888889],\n",
       " ['09', 5.586956521739131],\n",
       " ['00', 8.160714285714286],\n",
       " ['05', 10.48936170212766],\n",
       " ['01', 11.737704918032787],\n",
       " ['13', 14.906976744186046],\n",
       " ['22', 6.680555555555555],\n",
       " ['19', 10.72972972972973],\n",
       " ['04', 7.083333333333333],\n",
       " ['12', 9.337837837837839],\n",
       " ['02', 23.45762711864407],\n",
       " ['21', 15.9]]"
      ]
     },
     "execution_count": 10,
     "metadata": {},
     "output_type": "execute_result"
    }
   ],
   "source": [
    "avg_by_hour = [ ]\n",
    "for hour in comments_by_hour:\n",
    "    avg_by_hour.append([hour,comments_by_hour[hour] / counts_by_hour[hour]])\n",
    "avg_by_hour"
   ]
  },
  {
   "cell_type": "markdown",
   "metadata": {},
   "source": [
    "Although we now have the results we need, this format makes it hard to identify the hours with the highest values. Let's finish by sorting the list of lists and printing the five highest values in a format that's easier to read."
   ]
  },
  {
   "cell_type": "code",
   "execution_count": 11,
   "metadata": {
    "collapsed": false
   },
   "outputs": [
    {
     "name": "stdout",
     "output_type": "stream",
     "text": [
      "[[8.844444444444445, '06'], [10.142857142857142, '08'], [13.1, '18'], [7.685714285714286, '07'], [21.28395061728395, '20'], [38.27350427350427, '15'], [16.798165137614678, '16'], [13.233333333333333, '10'], [10.898305084745763, '11'], [11.356435643564357, '17'], [7.672727272727273, '03'], [7.884057971014493, '23'], [13.13888888888889, '14'], [5.586956521739131, '09'], [8.160714285714286, '00'], [10.48936170212766, '05'], [11.737704918032787, '01'], [14.906976744186046, '13'], [6.680555555555555, '22'], [10.72972972972973, '19'], [7.083333333333333, '04'], [9.337837837837839, '12'], [23.45762711864407, '02'], [15.9, '21']]\n"
     ]
    }
   ],
   "source": [
    "swap_avg_by_hour =[ ]\n",
    "for row in avg_by_hour:\n",
    "    \n",
    "    swap_avg_by_hour.append([row[1],row[0]])\n",
    "print(swap_avg_by_hour)"
   ]
  },
  {
   "cell_type": "code",
   "execution_count": 69,
   "metadata": {
    "collapsed": false
   },
   "outputs": [
    {
     "name": "stdout",
     "output_type": "stream",
     "text": [
      "Top 5 Hours for Ask Posts Comments\n",
      "15:01:00: 38.27 average comments per post\n",
      "02:01:00: 23.46 average comments per post\n",
      "20:01:00: 21.28 average comments per post\n",
      "16:01:00: 16.80 average comments per post\n",
      "21:01:00: 15.90 average comments per post\n"
     ]
    }
   ],
   "source": [
    "sorted_swap = sorted(swap_avg_by_hour, reverse = True)\n",
    "print(\"Top 5 Hours for Ask Posts Comments\")\n",
    "for avg in sorted_swap[:5]:\n",
    "    hour = avg[1]\n",
    "    num = avg[0]\n",
    "    time = dt.datetime.strptime(hour,\"%H\").strftime(\"%H:%m\")\n",
    "    print(\"{t}:00: {a:.2f} average comments per post\".format(t = time,a = num))"
   ]
  },
  {
   "cell_type": "markdown",
   "metadata": {},
   "source": [
    "The hour that receives the most comments per post on average is 15:00, with an average of 38.27 comments per post. There's about a 60% increase in the number of comments between the hours with the highest and second highest average number of comments.\n",
    "\n"
   ]
  },
  {
   "cell_type": "code",
   "execution_count": 12,
   "metadata": {
    "collapsed": false
   },
   "outputs": [
    {
     "name": "stdout",
     "output_type": "stream",
     "text": [
      "15.061926605504587\n"
     ]
    }
   ],
   "source": [
    "points_of_ask_posts = [ ]\n",
    "for row in ask_posts:\n",
    "    points = int(row[3])\n",
    "    points_of_ask_posts.append(points)\n",
    "avg_points_ask = sum(points_of_ask_posts) / len(ask_posts)\n",
    "print(avg_points_ask)"
   ]
  },
  {
   "cell_type": "code",
   "execution_count": 13,
   "metadata": {
    "collapsed": false
   },
   "outputs": [
    {
     "name": "stdout",
     "output_type": "stream",
     "text": [
      "27.555077452667813\n"
     ]
    }
   ],
   "source": [
    "points_of_show_posts = [ ]\n",
    "for row in show_posts:\n",
    "    points = int(row[3])\n",
    "    points_of_show_posts.append(points)\n",
    "avg_points_show = sum(points_of_show_posts) / len(show_posts)\n",
    "print(avg_points_show)"
   ]
  },
  {
   "cell_type": "code",
   "execution_count": 14,
   "metadata": {
    "collapsed": false
   },
   "outputs": [
    {
     "name": "stdout",
     "output_type": "stream",
     "text": [
      "[['06', 23.4375], ['08', 15.264705882352942], ['18', 36.31147540983606], ['07', 19.0], ['20', 30.316666666666666], ['11', 33.63636363636363], ['16', 28.322580645161292], ['10', 18.916666666666668], ['15', 28.564102564102566], ['17', 27.107526881720432], ['03', 25.14814814814815]]\n"
     ]
    }
   ],
   "source": [
    "r_created = { }\n",
    "r_points = { }\n",
    "for row in show_posts:\n",
    "    created = row[6]\n",
    "    points = int(row[3])\n",
    "    hour = dt.datetime.strptime(created,\"%m/%d/%Y %H:%M\").strftime(\"%H\")\n",
    "    if hour in r_created:\n",
    "        r_created[hour] += 1\n",
    "        r_points[hour] += points\n",
    "    else:\n",
    "        r_created[hour] = 1\n",
    "        r_points[hour] = points\n",
    "\n",
    "avg_points_hour = [ ]\n",
    "for row in r_created:\n",
    "    avg_points_hour.append([row,r_points[row] / r_created[row]])\n",
    "print(avg_points_hour[:11])"
   ]
  },
  {
   "cell_type": "code",
   "execution_count": 15,
   "metadata": {
    "collapsed": false
   },
   "outputs": [
    {
     "name": "stdout",
     "output_type": "stream",
     "text": [
      "[[23.4375, '06'], [15.264705882352942, '08'], [36.31147540983606, '18'], [19.0, '07'], [30.316666666666666, '20'], [33.63636363636363, '11'], [28.322580645161292, '16'], [18.916666666666668, '10'], [28.564102564102566, '15'], [27.107526881720432, '17']]\n"
     ]
    }
   ],
   "source": [
    "swap_avg_points_hour = [ ]\n",
    "for row in avg_points_hour:\n",
    "    hour = row[0]\n",
    "    points = row[1]\n",
    "    swap_avg_points_hour.append([points,hour])\n",
    "print(swap_avg_points_hour[:10])"
   ]
  },
  {
   "cell_type": "code",
   "execution_count": 74,
   "metadata": {
    "collapsed": false
   },
   "outputs": [
    {
     "name": "stdout",
     "output_type": "stream",
     "text": [
      "[[42.388888888888886, '23'], [41.68852459016394, '12'], [40.34782608695652, '22'], [37.83870967741935, '00'], [36.31147540983606, '18'], [33.63636363636363, '11'], [30.945454545454545, '19'], [30.316666666666666, '20'], [28.564102564102566, '15'], [28.322580645161292, '16']]\n"
     ]
    }
   ],
   "source": [
    "sorted_points = sorted(swap_avg_points_hour,reverse = True)\n",
    "print(sorted_points[:10])"
   ]
  },
  {
   "cell_type": "markdown",
   "metadata": {},
   "source": [
    "# Conclusion\n",
    "In this project, we analyzed ask posts and show posts to determine which type of post and time receive the most comments on average. Based on our analysis, to maximize the amount of comments a post receives, we'd recommend the post be categorized as ask post and created between 15:00 and 16:00 (3:00 pm est - 4:00 pm est).\n",
    "\n",
    "However, it should be noted that the data set we analyzed excluded posts without any comments. Given that, it's more accurate to say that of the posts that received comments, ask posts received more comments on average and ask posts created between 15:00 and 16:00 (3:00 pm est - 4:00 pm est) received the most comments on average."
   ]
  }
 ],
 "metadata": {
  "kernelspec": {
   "display_name": "Python 3",
   "language": "python",
   "name": "python3"
  },
  "language_info": {
   "codemirror_mode": {
    "name": "ipython",
    "version": 3
   },
   "file_extension": ".py",
   "mimetype": "text/x-python",
   "name": "python",
   "nbconvert_exporter": "python",
   "pygments_lexer": "ipython3",
   "version": "3.6.5"
  }
 },
 "nbformat": 4,
 "nbformat_minor": 2
}
